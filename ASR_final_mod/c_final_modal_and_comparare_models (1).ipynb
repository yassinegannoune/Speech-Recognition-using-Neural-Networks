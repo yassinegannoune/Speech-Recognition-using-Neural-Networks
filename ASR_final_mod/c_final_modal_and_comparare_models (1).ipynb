{
  "nbformat": 4,
  "nbformat_minor": 0,
  "metadata": {
    "colab": {
      "provenance": [],
      "gpuType": "T4"
    },
    "kernelspec": {
      "name": "python3",
      "display_name": "Python 3"
    },
    "language_info": {
      "name": "python"
    },
    "accelerator": "GPU",
    "gpuClass": "standard"
  },
  "cells": [
    {
      "cell_type": "code",
      "execution_count": null,
      "metadata": {
        "colab": {
          "base_uri": "https://localhost:8080/"
        },
        "id": "Aokgkso4597L",
        "outputId": "a7f661f9-dd63-44c2-8ca3-471c0620313b"
      },
      "outputs": [
        {
          "output_type": "stream",
          "name": "stdout",
          "text": [
            "Looking in indexes: https://pypi.org/simple, https://us-python.pkg.dev/colab-wheels/public/simple/\n",
            "Collecting python_speech_features\n",
            "  Downloading python_speech_features-0.6.tar.gz (5.6 kB)\n",
            "  Preparing metadata (setup.py) ... \u001b[?25l\u001b[?25hdone\n",
            "Building wheels for collected packages: python_speech_features\n",
            "  Building wheel for python_speech_features (setup.py) ... \u001b[?25l\u001b[?25hdone\n",
            "  Created wheel for python_speech_features: filename=python_speech_features-0.6-py3-none-any.whl size=5886 sha256=0df69f1ab2cb0aa78a0f2f1696ce8c79aef5180a09cc3057c5899f5b9998a4bc\n",
            "  Stored in directory: /root/.cache/pip/wheels/5a/9e/68/30bad9462b3926c29e315df16b562216d12bdc215f4d240294\n",
            "Successfully built python_speech_features\n",
            "Installing collected packages: python_speech_features\n",
            "Successfully installed python_speech_features-0.6\n"
          ]
        }
      ],
      "source": [
        "pip install python_speech_features"
      ]
    },
    {
      "cell_type": "code",
      "source": [
        "from google.colab import drive\n",
        "drive.mount('/content/drive')\n",
        "import os\n",
        "\n",
        "librispeech_path = \"/content/drive/MyDrive/LibriSpeech\""
      ],
      "metadata": {
        "colab": {
          "base_uri": "https://localhost:8080/"
        },
        "id": "aQaSRVfG6E4r",
        "outputId": "e5971c57-b719-462d-86ba-4899fcb67cad"
      },
      "execution_count": null,
      "outputs": [
        {
          "output_type": "stream",
          "name": "stdout",
          "text": [
            "Mounted at /content/drive\n"
          ]
        }
      ]
    },
    {
      "cell_type": "code",
      "source": [
        "import os\n",
        "os.environ['KERAS_BACKEND'] = 'tensorflow'\n"
      ],
      "metadata": {
        "id": "Wse2VM8C6Hh8"
      },
      "execution_count": null,
      "outputs": []
    },
    {
      "cell_type": "code",
      "source": [
        "#GPU preparation\n",
        "from keras.backend import set_session\n",
        "import tensorflow as tf \n",
        "gpus = tf.config.experimental.list_physical_devices('GPU')\n",
        "if gpus:\n",
        "  try:\n",
        "    tf.config.experimental.set_virtual_device_configuration(\n",
        "        gpus[0],\n",
        "        [tf.config.experimental.VirtualDeviceConfiguration(memory_limit=10240)])\n",
        "  except RuntimeError as e:\n",
        "    print(e)\n",
        "%load_ext autoreload\n",
        "%autoreload 2\n",
        "from sample_models import *\n",
        "from train_utils import train_model"
      ],
      "metadata": {
        "colab": {
          "base_uri": "https://localhost:8080/"
        },
        "id": "dsq1fUrj6LuK",
        "outputId": "284d3e38-dd8c-4beb-af31-49710c2fe5e5"
      },
      "execution_count": null,
      "outputs": [
        {
          "output_type": "stream",
          "name": "stderr",
          "text": [
            "/usr/local/lib/python3.10/dist-packages/keras/optimizers/legacy/gradient_descent.py:114: UserWarning: The `lr` argument is deprecated, use `learning_rate` instead.\n",
            "  super().__init__(name, **kwargs)\n"
          ]
        }
      ]
    },
    {
      "cell_type": "code",
      "source": [
        "model_end = final_model(input_dim=161, \n",
        "                        units=200,\n",
        "                        filters=200,\n",
        "                        kernel_size=11, \n",
        "                        conv_stride=2,\n",
        "                        conv_border_mode='valid',\n",
        "                        recur_layers=2)"
      ],
      "metadata": {
        "colab": {
          "base_uri": "https://localhost:8080/"
        },
        "id": "EQoVQS6w6QdM",
        "outputId": "345642e3-7711-4fb8-f4ac-40b99e549d66"
      },
      "execution_count": null,
      "outputs": [
        {
          "output_type": "stream",
          "name": "stdout",
          "text": [
            "Model: \"model\"\n",
            "_________________________________________________________________\n",
            " Layer (type)                Output Shape              Param #   \n",
            "=================================================================\n",
            " the_input (InputLayer)      [(None, None, 161)]       0         \n",
            "                                                                 \n",
            " conv1d (Conv1D)             (None, None, 200)         354400    \n",
            "                                                                 \n",
            " bn_conv_1d (BatchNormalizat  (None, None, 200)        800       \n",
            " ion)                                                            \n",
            "                                                                 \n",
            " max_pooling1d (MaxPooling1D  (None, None, 200)        0         \n",
            " )                                                               \n",
            "                                                                 \n",
            " dropout (Dropout)           (None, None, 200)         0         \n",
            "                                                                 \n",
            " bidirectional (Bidirectiona  (None, None, 400)        482400    \n",
            " l)                                                              \n",
            "                                                                 \n",
            " batch_normalization (BatchN  (None, None, 400)        1600      \n",
            " ormalization)                                                   \n",
            "                                                                 \n",
            " dropout_1 (Dropout)         (None, None, 400)         0         \n",
            "                                                                 \n",
            " bidirectional_1 (Bidirectio  (None, None, 400)        722400    \n",
            " nal)                                                            \n",
            "                                                                 \n",
            " batch_normalization_1 (Batc  (None, None, 400)        1600      \n",
            " hNormalization)                                                 \n",
            "                                                                 \n",
            " dropout_2 (Dropout)         (None, None, 400)         0         \n",
            "                                                                 \n",
            " time_distributed (TimeDistr  (None, None, 29)         11629     \n",
            " ibuted)                                                         \n",
            "                                                                 \n",
            " softmax (Activation)        (None, None, 29)          0         \n",
            "                                                                 \n",
            "=================================================================\n",
            "Total params: 1,574,829\n",
            "Trainable params: 1,572,829\n",
            "Non-trainable params: 2,000\n",
            "_________________________________________________________________\n",
            "None\n"
          ]
        }
      ]
    },
    {
      "cell_type": "code",
      "source": [
        "train_model(input_to_softmax=model_end, \n",
        "            pickle_path='model_end.pickle', \n",
        "            save_model_path='model_end.h5', \n",
        "            spectrogram=True) "
      ],
      "metadata": {
        "colab": {
          "base_uri": "https://localhost:8080/"
        },
        "id": "DsHMUnL-6TpZ",
        "outputId": "74fb146e-7d31-407a-ae43-d847cf8f1891"
      },
      "execution_count": null,
      "outputs": [
        {
          "metadata": {
            "tags": null
          },
          "name": "stderr",
          "output_type": "stream",
          "text": [
            "/content/train_utils.py:74: UserWarning: `Model.fit_generator` is deprecated and will be removed in a future version. Please use `Model.fit`, which supports generators.\n",
            "  hist = model.fit_generator(generator=audio_gen.next_train(), steps_per_epoch=steps_per_epoch,\n"
          ]
        },
        {
          "output_type": "stream",
          "name": "stdout",
          "text": [
            "Epoch 1/30\n",
            "106/106 [==============================] - 1049s 10s/step - loss: 224.3341 - val_loss: 206.3278\n",
            "Epoch 2/30\n",
            "106/106 [==============================] - 46s 438ms/step - loss: 183.3479 - val_loss: 166.4074\n",
            "Epoch 3/30\n",
            "106/106 [==============================] - 42s 396ms/step - loss: 168.7624 - val_loss: 155.6109\n",
            "Epoch 4/30\n",
            "106/106 [==============================] - 42s 399ms/step - loss: 159.2754 - val_loss: 148.2179\n",
            "Epoch 5/30\n",
            "106/106 [==============================] - 41s 390ms/step - loss: 150.9232 - val_loss: 141.9203\n",
            "Epoch 6/30\n",
            "106/106 [==============================] - 43s 409ms/step - loss: 144.6928 - val_loss: 139.2970\n",
            "Epoch 7/30\n",
            "106/106 [==============================] - 43s 406ms/step - loss: 139.0657 - val_loss: 136.6859\n",
            "Epoch 8/30\n",
            "106/106 [==============================] - 43s 409ms/step - loss: 134.5832 - val_loss: 133.7779\n",
            "Epoch 9/30\n",
            "106/106 [==============================] - 43s 409ms/step - loss: 130.0963 - val_loss: 131.6570\n",
            "Epoch 10/30\n",
            "106/106 [==============================] - 41s 389ms/step - loss: 126.7252 - val_loss: 129.9724\n",
            "Epoch 11/30\n",
            "106/106 [==============================] - 43s 409ms/step - loss: 123.0030 - val_loss: 130.0200\n",
            "Epoch 12/30\n",
            "106/106 [==============================] - 42s 400ms/step - loss: 120.6014 - val_loss: 129.0515\n",
            "Epoch 13/30\n",
            "106/106 [==============================] - 42s 397ms/step - loss: 118.1480 - val_loss: 128.3404\n",
            "Epoch 14/30\n",
            "106/106 [==============================] - 42s 399ms/step - loss: 116.6972 - val_loss: 127.2962\n",
            "Epoch 15/30\n",
            "106/106 [==============================] - 62s 591ms/step - loss: 114.5404 - val_loss: 130.5460\n",
            "Epoch 16/30\n",
            "106/106 [==============================] - 43s 411ms/step - loss: 113.5420 - val_loss: 128.5988\n",
            "Epoch 17/30\n",
            "106/106 [==============================] - 43s 408ms/step - loss: 111.6867 - val_loss: 125.7125\n",
            "Epoch 18/30\n",
            "106/106 [==============================] - 41s 389ms/step - loss: 110.9633 - val_loss: 125.2198\n",
            "Epoch 19/30\n",
            "106/106 [==============================] - 41s 389ms/step - loss: 109.4269 - val_loss: 127.3981\n",
            "Epoch 20/30\n",
            "106/106 [==============================] - 43s 412ms/step - loss: 108.9193 - val_loss: 129.1487\n",
            "Epoch 21/30\n",
            "106/106 [==============================] - 43s 406ms/step - loss: 108.0479 - val_loss: 131.5729\n",
            "Epoch 22/30\n",
            "106/106 [==============================] - 42s 396ms/step - loss: 107.5177 - val_loss: 127.9912\n",
            "Epoch 23/30\n",
            "106/106 [==============================] - 40s 382ms/step - loss: 107.3133 - val_loss: 125.9853\n",
            "Epoch 24/30\n",
            "106/106 [==============================] - 40s 380ms/step - loss: 106.7414 - val_loss: 127.3705\n",
            "Epoch 25/30\n",
            "106/106 [==============================] - 40s 381ms/step - loss: 106.8593 - val_loss: 127.4544\n",
            "Epoch 26/30\n",
            "106/106 [==============================] - 40s 382ms/step - loss: 106.8527 - val_loss: 127.6006\n",
            "Epoch 27/30\n",
            "106/106 [==============================] - 43s 403ms/step - loss: 106.3199 - val_loss: 130.8076\n",
            "Epoch 28/30\n",
            "106/106 [==============================] - 43s 406ms/step - loss: 107.1044 - val_loss: 127.0674\n",
            "Epoch 29/30\n",
            "106/106 [==============================] - 42s 400ms/step - loss: 107.1208 - val_loss: 127.5338\n",
            "Epoch 30/30\n",
            "106/106 [==============================] - 40s 381ms/step - loss: 107.1755 - val_loss: 127.8455\n"
          ]
        }
      ]
    },
    {
      "cell_type": "code",
      "source": [
        "from data_generator import vis_train_features\n",
        "vis_text, vis_raw_audio, vis_mfcc_feature, vis_spectrogram_feature, vis_audio_path = vis_train_features()"
      ],
      "metadata": {
        "colab": {
          "base_uri": "https://localhost:8080/"
        },
        "id": "_HzEQP0ONEnI",
        "outputId": "836e186e-a1a4-4173-fc02-7c793faaa413"
      },
      "execution_count": null,
      "outputs": [
        {
          "output_type": "stream",
          "name": "stdout",
          "text": [
            "There are 2136 total training examples.\n"
          ]
        }
      ]
    },
    {
      "cell_type": "code",
      "source": [
        "from glob import glob\n",
        "import numpy as np\n",
        "import _pickle as pickle\n",
        "import seaborn as sns\n",
        "import matplotlib.pyplot as plt\n",
        "%matplotlib inline\n",
        "sns.set_style(style='white')\n",
        "\n",
        "all_pickles = sorted(glob(\"results/*.pickle\"))\n",
        "model_names = [\"Rnn\",\"RNN+Time dense\",\"CNN+RNN\",\"Final model\"]\n",
        "valid_loss = [pickle.load( open( i, \"rb\" ) )['val_loss'] for i in all_pickles]\n",
        "train_loss = [pickle.load( open( i, \"rb\" ) )['loss'] for i in all_pickles]\n",
        "num_epochs = [len(valid_loss[i]) for i in range(len(valid_loss))]\n",
        "\n",
        "fig = plt.figure(figsize=(16,5))\n",
        "\n",
        "ax1 = fig.add_subplot(121)\n",
        "for i in range(len(all_pickles)):\n",
        "    ax1.plot(np.linspace(1, num_epochs[i], num_epochs[i]), \n",
        "            train_loss[i], label=model_names[i])\n",
        "# clean up the plot\n",
        "ax1.legend()  \n",
        "ax1.set_xlim([1, max(num_epochs)])\n",
        "plt.xlabel('Epoch')\n",
        "plt.ylabel('Training Loss')\n",
        "\n",
        "# plot the validation loss vs. epoch for each model\n",
        "ax2 = fig.add_subplot(122)\n",
        "for i in range(len(all_pickles)):\n",
        "    ax2.plot(np.linspace(1, num_epochs[i], num_epochs[i]), \n",
        "            valid_loss[i], label=model_names[i])\n",
        "# clean up the plot\n",
        "ax2.legend()  \n",
        "ax2.set_xlim([1, max(num_epochs)])\n",
        "plt.xlabel('Epoch')\n",
        "plt.ylabel('Validation Loss')\n",
        "plt.show()"
      ],
      "metadata": {
        "colab": {
          "base_uri": "https://localhost:8080/",
          "height": 465
        },
        "id": "kqfczVK8qgHI",
        "outputId": "9be29aba-8d36-4681-a7bc-00d4c630005b"
      },
      "execution_count": null,
      "outputs": [
        {
          "output_type": "display_data",
          "data": {
            "text/plain": [
              "<Figure size 1600x500 with 2 Axes>"
            ],
            "image/png": "[encoded data removed]"
          },
          "metadata": {}
        }
      ]
    }
  ]
}